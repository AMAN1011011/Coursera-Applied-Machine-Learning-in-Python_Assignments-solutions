{
  "nbformat": 4,
  "nbformat_minor": 0,
  "metadata": {
    "colab": {
      "provenance": []
    },
    "kernelspec": {
      "name": "python3",
      "display_name": "Python 3"
    },
    "language_info": {
      "name": "python"
    }
  },
  "cells": [
    {
      "cell_type": "markdown",
      "source": [
        "# Assignment 4 - Predicting and understanding viewer engagement with educational videos \n",
        "\n",
        "With the accelerating popularity of online educational experiences, the role of online lectures and other educational video continues to increase in scope and importance. Open access educational repositories such as <a href=\"http://videolectures.net/\">videolectures.net</a>, as well as Massive Open Online Courses (MOOCs) on platforms like Coursera, have made access to many thousands of lectures and tutorials an accessible option for millions of people around the world. Yet this impressive volume of content has also led to a challenge in how to find, filter, and match these videos with learners. This assignment gives you an example of how machine learning can be used to address part of that challenge.\n",
        "\n",
        "## About the prediction problem\n",
        "\n",
        "One critical property of a video is engagement: how interesting or \"engaging\" it is for viewers, so that they decide to keep watching. Engagement is critical for learning, whether the instruction is coming from a video or any other source. There are many ways to define engagement with video, but one common approach is to estimate it by measuring how much of the video a user watches. If the video is not interesting and does not engage a viewer, they will typically abandon it quickly, e.g. only watch 5 or 10% of the total. \n",
        "\n",
        "A first step towards providing the best-matching educational content is to understand which features of educational material make it engaging for learners in general. This is where predictive modeling can be applied, via supervised machine learning. For this assignment, your task is to predict how engaging an educational video is likely to be for viewers, based on a set of features extracted from the video's transcript, audio track, hosting site, and other sources.\n",
        "\n",
        "We chose this prediction problem for several reasons:\n",
        "\n",
        "* It combines a variety of features derived from a rich set of resources connected to the original data;\n",
        "* The manageable dataset size means the dataset and supervised models for it can be easily explored on a wide variety of computing platforms;\n",
        "* Predicting popularity or engagement for a media item, especially combined with understanding which features contribute to its success with viewers, is a fun problem but also a practical representative application of machine learning in a number of business and educational sectors.\n",
        "\n",
        "\n",
        "## About the dataset\n",
        "\n",
        "We extracted training and test datasets of educational video features from the VLE Dataset put together by researcher Sahan Bulathwela at University College London. \n",
        "\n",
        "We provide you with two data files for use in training and validating your models: train.csv and test.csv. Each row in these two files corresponds to a single educational video, and includes information about diverse properties of the video content as described further below. The target variable is `engagement` which was defined as True if the median percentage of the video watched across all viewers was at least 30%, and False otherwise.\n",
        "\n",
        "Note: Any extra variables that may be included in the training set are simply for your interest if you want an additional source of data for visualization, or to enable unsupervised and semi-supervised approaches. However, they are not included in the test set and thus cannot be used for prediction. **Only the data already included in your Coursera directory can be used for training the model for this assignment.**\n",
        "\n",
        "For this final assignment, you will bring together what you've learned across all four weeks of this course, by exploring different prediction models for this new dataset. In addition, we encourage you to apply what you've learned about model selection to do hyperparameter tuning using training/validation splits of the training data, to optimize the model and further increase its performance. In addition to a basic evaluation of model accuracy, we've also provided a utility function to visualize which features are most and least contributing to the overall model performance.\n",
        "\n",
        "**File descriptions** \n",
        "    assets/train.csv - the training set (Use only this data for training your model!)\n",
        "    assets/test.csv - the test set\n",
        "<br>\n",
        "\n",
        "**Data fields**\n",
        "\n",
        "train.csv & test.csv:\n",
        "\n",
        "    title_word_count - the number of words in the title of the video.\n",
        "    \n",
        "    document_entropy - a score indicating how varied the topics are covered in the video, based on the transcript. Videos with smaller entropy scores will tend to be more cohesive and more focused on a single topic.\n",
        "    \n",
        "    freshness - The number of days elapsed between 01/01/1970 and the lecture published date. Videos that are more recent will have higher freshness values.\n",
        "    \n",
        "    easiness - A text difficulty measure applied to the transcript. A lower score indicates more complex language used by the presenter.\n",
        "    \n",
        "    fraction_stopword_presence - A stopword is a very common word like 'the' or 'and'. This feature computes the fraction of all words that are stopwords in the video lecture transcript.\n",
        "    \n",
        "    speaker_speed - The average speaking rate in words per minute of the presenter in the video.\n",
        "    \n",
        "    silent_period_rate - The fraction of time in the lecture video that is silence (no speaking).\n",
        "    \n",
        "train.csv only:\n",
        "    \n",
        "    engagement - Target label for training. True if learners watched a substantial portion of the video (see description), or False otherwise.\n",
        "    \n",
        "\n",
        "## Evaluation\n",
        "\n",
        "Your predictions will be given as the probability that the corresponding video will be engaging to learners.\n",
        "\n",
        "The evaluation metric for this assignment is the Area Under the ROC Curve (AUC). \n",
        "\n",
        "Your grade will be based on the AUC score computed for your classifier. A model with an AUC (area under ROC curve) of at least 0.8 passes this assignment, and over 0.85 will receive full points.\n",
        "___\n",
        "\n",
        "For this assignment, create a function that trains a model to predict significant learner engagement with a video using `asset/train.csv`. Using this model, return a Pandas Series object of length 2309 with the data being the probability that each corresponding video from `readonly/test.csv` will be engaging (according to a model learned from the 'engagement' label in the training set), and the video index being in the `id` field.\n",
        "\n",
        "Example:\n",
        "\n",
        "    id\n",
        "       9240    0.401958\n",
        "       9241    0.105928\n",
        "       9242    0.018572\n",
        "                 ...\n",
        "       9243    0.208567\n",
        "       9244    0.818759\n",
        "       9245    0.018528\n",
        "             ...\n",
        "       Name: engagement, dtype: float32\n",
        "       \n",
        "### Hints\n",
        "\n",
        "* Make sure your code is working before submitting it to the autograder.\n",
        "\n",
        "* Print out and check your result to see whether there is anything weird (e.g., all probabilities are the same).\n",
        "\n",
        "* Generally the total runtime should be less than 10 mins. \n",
        "\n",
        "* Try to avoid global variables. If you have other functions besides engagement_model, you should move those functions inside the scope of engagement_model.\n",
        "\n",
        "* Be sure to first check the pinned threads in Week 4's discussion forum if you run into a problem you can't figure out.\n",
        "\n",
        "### Extensions\n",
        "\n",
        "* If this prediction task motivates you to explore further, you can find more details here on the original VLE dataset and others related to video engagement: https://github.com/sahanbull/VLE-Dataset"
      ],
      "metadata": {
        "id": "6saCjLVs6hyr"
      }
    },
    {
      "cell_type": "code",
      "source": [
        "import warnings\n",
        "warnings.filterwarnings(\"ignore\")\n",
        "\n",
        "import os\n",
        "import pandas as pd\n",
        "import numpy as np\n",
        "import matplotlib.pyplot as plt\n",
        "\n",
        "np.random.seed(0)   # Do not change this value: required to be compatible with solutions generated by the autograder."
      ],
      "metadata": {
        "id": "tK6iR7UP6oca"
      },
      "execution_count": 1,
      "outputs": []
    },
    {
      "cell_type": "code",
      "source": [
        "from sklearn.model_selection import train_test_split \n",
        "from sklearn.ensemble import RandomForestClassifier\n",
        "def engagement_model():\n",
        "    rec = None\n",
        "    \n",
        "    # YOUR CODE HERE\n",
        "    train_data = pd.read_csv('assets/train.csv')\n",
        "    X = train_data.drop(columns=['engagement']) \n",
        "    y = train_data['engagement'] \n",
        "    X_train, X_val, y_train, y_val = train_test_split(X, y, test_size=0.2, random_state=42) \n",
        "    model = RandomForestClassifier(n_estimators=100, random_state=42) \n",
        "    model.fit(X_train, y_train)\n",
        "    accuracy = model.score(X_val, y_val) \n",
        "    print(f'Model accuracy on validation set: {accuracy:.2f}')\n",
        "    test_data = pd.read_csv('assets/test.csv')\n",
        "    probabilities = model.predict_proba(test_data) \n",
        "    probabilities = probabilities[:, 1] \n",
        "    return pd.Series(probabilities, index=test_data['id'], name='engagement') \n",
        "    raise NotImplementedError()\n",
        "    \n",
        "    return rec\n",
        "stu_ans = engagement_model() \n",
        "print(stu_ans)"
      ],
      "metadata": {
        "id": "LKIONrQT6qOj"
      },
      "execution_count": null,
      "outputs": []
    },
    {
      "cell_type": "code",
      "source": [
        "# Autograder tests - sanity checks; no points for passing this cell\n",
        "\n",
        "stu_ans = engagement_model()\n",
        "\n",
        "assert isinstance(stu_ans, pd.Series), \"Your function should return a pd.Series. \"\n",
        "assert len(stu_ans) == 2309, \"Your series is of incorrect length: expected 2309 \""
      ],
      "metadata": {
        "id": "fMoN2NLI6v8t"
      },
      "execution_count": null,
      "outputs": []
    }
  ]
}